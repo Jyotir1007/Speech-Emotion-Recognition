{
  "nbformat": 4,
  "nbformat_minor": 0,
  "metadata": {
    "colab": {
      "provenance": []
    },
    "kernelspec": {
      "name": "python3",
      "display_name": "Python 3"
    }
  },
  "cells": [
    {
      "cell_type": "code",
      "metadata": {
        "id": "byp8AEbuxqys",
        "outputId": "ba85c889-bde0-4aed-8545-33bf4a5ca1be",
        "colab": {
          "base_uri": "https://localhost:8080/"
        }
      },
      "source": [
        "from google.colab import drive\n",
        "drive.mount('/content/drive/')"
      ],
      "execution_count": 43,
      "outputs": [
        {
          "output_type": "stream",
          "name": "stdout",
          "text": [
            "Drive already mounted at /content/drive/; to attempt to forcibly remount, call drive.mount(\"/content/drive/\", force_remount=True).\n"
          ]
        }
      ]
    },
    {
      "cell_type": "code",
      "metadata": {
        "id": "iQOY709my-fv",
        "colab": {
          "base_uri": "https://localhost:8080/"
        },
        "outputId": "c5ce9682-61c8-4806-a05a-7f8a2a11384d",
        "collapsed": true
      },
      "source": [
        "\n",
        "!unzip '/content/drive/My Drive/speech-emotion-recognition-ravdess-data (1).zip'"
      ],
      "execution_count": 44,
      "outputs": [
        {
          "output_type": "stream",
          "name": "stdout",

    {
      "cell_type": "code",
      "metadata": {
        "id": "w9dIRJbovpGI",
        "collapsed": true,
        "colab": {
          "base_uri": "https://localhost:8080/"
        },
        "outputId": "a39cdddc-9c6d-4874-f001-38ba2ec62274"
      },
      "source": [
        "!ls"
      ],
      "execution_count": 45,
      "outputs": [
        {
          "output_type": "stream",
          "name": "stdout",
          "text": [
            "Actor_01  Actor_05  Actor_09  Actor_13\tActor_17  Actor_21  data_path.csv\n",
            "Actor_02  Actor_06  Actor_10  Actor_14\tActor_18  Actor_22  drive\n",
            "Actor_03  Actor_07  Actor_11  Actor_15\tActor_19  Actor_23  sample_data\n",
            "Actor_04  Actor_08  Actor_12  Actor_16\tActor_20  Actor_24\n"
          ]
        }
      ]
    },
    {
      "cell_type": "code",
      "metadata": {
        "id": "kZTfgUu51RCX"
      },
      "source": [
        "import pandas as pd\n",
        "import sys\n",
        "import librosa\n",
        "import soundfile\n",
        "import os, glob, pickle\n",
        "import numpy as np\n",
        "from sklearn.model_selection import train_test_split\n",
        "from sklearn.neural_network import MLPClassifier\n",
        "import matplotlib.pyplot as plt\n",
        "import seaborn as sns\n",
        "from sklearn.metrics import accuracy_score, classification_report, confusion_matrix\n",
        "import warnings"
      ],
      "execution_count": 46,
      "outputs": []
    },
    {
      "cell_type": "code",
      "source": [
        "if not sys.warnoptions:\n",
        "    warnings.simplefilter(\"ignore\")\n",
        "warnings.filterwarnings(\"ignore\",category=DeprecationWarning)\n",
        "RavdnessData = '/content/drive/MyDrive/Audio dataset'\n",
        "ravdnessDirectoryList = os.listdir(RavdnessData)\n",
        "fileEmotion =[]\n",
        "filePath=[]\n",
        "for dir in ravdnessDirectoryList:\n",
        "    actor = os.listdir(os.path.join(RavdnessData, dir))\n",
        "    for file in actor:\n",
        "        part=file.split('.')[0]\n",
        "        part=part.split('-')\n",
        "        fileEmotion.append(int(part[2]))\n",
        "        filePath.append(RavdnessData + dir +'/'+file)"
      ],
      "metadata": {
        "id": "cduH-SnKvub1"
      },
      "execution_count": 47,
      "outputs": []
    },
    {
      "cell_type": "code",
      "source": [
        "emotion_df = pd.DataFrame(fileEmotion, columns=['Emotions'])\n",
        "path_df = pd.DataFrame(filePath, columns=['Path'])\n",
        "Ravdness_df = pd.concat([emotion_df, path_df], axis=1)\n",
        "Ravdness_df['Emotions'] = Ravdness_df['Emotions'].replace({\n",
        "    1: 'neutral', 2: 'calm', 3: 'happy', 4: 'sad',\n",
        "    5: 'angry', 6: 'fear', 7: 'disgust', 8: 'surprised'\n",
        "})\n",
        "Ravdness_df.head()\n",
        "dataPath = pd.concat([Ravdness_df], axis=0)\n",
        "dataPath.to_csv(\"data_path.csv\", index=False)\n",
        "dataPath.head()\n",
        "plt.figure(figsize=(6, 4))\n",
        "plt.title('Count of Emotions', size=16, fontweight='bold')\n",
        "dataPath['Emotions'] = pd.Categorical(dataPath['Emotions'])\n",
        "order = dataPath['Emotions'].value_counts().index\n",
        "plot = sns.countplot(data=dataPath, x='Emotions', order=order, palette='muted')\n",
        "for p in plot.patches:\n",
        "    plot.annotate(\n",
        "        str(int(p.get_height())),\n",
        "        (p.get_x() + p.get_width() / 2., p.get_height()),\n",
        "        ha='center', va='center',\n",
        "        xytext=(0, 8),\n",
        "        textcoords='offset points',\n",
        "        fontsize=10,\n",
        "        fontweight='bold'\n",
        "    )\n",
        "\n",
        "plt.ylabel('Count', size=12)\n",
        "plt.xlabel('Emotions', size=12)\n",
        "sns.despine(top=True, right=True, left=False, bottom=False)\n",
        "plt.tight_layout()\n",
        "plt.show()\n"
      ],
      "metadata": {
        "id": "5bVOYSTavQc8",
        "collapsed": true,
        "colab": {
          "base_uri": "https://localhost:8080/",
          "height": 518
        },
        "outputId": "d893caec-9a8a-48b0-8769-2286864729de"
      },
      "execution_count": 48,
      "outputs": [
        {
          "output_type": "stream",
          "name": "stderr",
          "text": [
            "/tmp/ipython-input-48-2800284849.py:16: FutureWarning: \n",
            "\n",
            "Passing `palette` without assigning `hue` is deprecated and will be removed in v0.14.0. Assign the `x` variable to `hue` and set `legend=False` for the same effect.\n",
            "\n",
            "  plot = sns.countplot(data=dataPath, x='Emotions', order=order, palette='muted')\n"
          ]
        },
        {
          "output_type": "display_data",
          "data": {
            "text/plain": [
              "<Figure size 600x400 with 1 Axes>"
            ],
            "image/png": "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\n"
          },
          "metadata": {}
        }
      ]
    },
    {
      "cell_type": "code",
      "source": [
        "!pip install audiomentations\n",
        "from audiomentations import Compose, AddGaussianNoise, TimeStretch, PitchShift\n",
        "\n",
        "\n",
        "augment = Compose([\n",
        "    AddGaussianNoise(min_amplitude=0.001, max_amplitude=0.015, p=0.4),\n",
        "    TimeStretch(min_rate=0.8, max_rate=1.25, p=0.3),\n",
        "    PitchShift(min_semitones=-4, max_semitones=4, p=0.3),\n",
        "])\n"
      ],
      "metadata": {
        "colab": {
          "base_uri": "https://localhost:8080/"
        },
        "id": "VJ88FWQNDsSG",
        "outputId": "27e5e8b2-581b-4162-a2df-76fb641f4999"
      },
      "execution_count": 49,
      "outputs": [
        {
          "output_type": "stream",
          "name": "stdout",
          "text": [
            "Requirement already satisfied: audiomentations in /usr/local/lib/python3.11/dist-packages (0.41.0)\n",
            "Requirement already satisfied: numpy<3,>=1.22.0 in /usr/local/lib/python3.11/dist-packages (from audiomentations) (2.0.2)\n",
            "Requirement already satisfied: numpy-minmax<1,>=0.3.0 in /usr/local/lib/python3.11/dist-packages (from audiomentations) (0.5.0)\n",
            "Requirement already satisfied: numpy-rms<1,>=0.4.2 in /usr/local/lib/python3.11/dist-packages (from audiomentations) (0.6.0)\n",
            "Requirement already satisfied: librosa!=0.10.0,<0.11.0,>=0.8.0 in /usr/local/lib/python3.11/dist-packages (from audiomentations) (0.10.2.post1)\n",
            "Requirement already satisfied: python-stretch<1,>=0.3.1 in /usr/local/lib/python3.11/dist-packages (from audiomentations) (0.3.1)\n",
            "Requirement already satisfied: scipy<2,>=1.4 in /usr/local/lib/python3.11/dist-packages (from audiomentations) (1.15.3)\n",
            "Requirement already satisfied: soxr<1.0.0,>=0.3.2 in /usr/local/lib/python3.11/dist-packages (from audiomentations) (0.5.0.post1)\n",
            "Requirement already satisfied: audioread>=2.1.9 in /usr/local/lib/python3.11/dist-packages (from librosa!=0.10.0,<0.11.0,>=0.8.0->audiomentations) (3.0.1)\n",
            "Requirement already satisfied: scikit-learn>=0.20.0 in /usr/local/lib/python3.11/dist-packages (from librosa!=0.10.0,<0.11.0,>=0.8.0->audiomentations) (1.6.1)\n",
            "Requirement already satisfied: joblib>=0.14 in /usr/local/lib/python3.11/dist-packages (from librosa!=0.10.0,<0.11.0,>=0.8.0->audiomentations) (1.5.1)\n",
            "Requirement already satisfied: decorator>=4.3.0 in /usr/local/lib/python3.11/dist-packages (from librosa!=0.10.0,<0.11.0,>=0.8.0->audiomentations) (4.4.2)\n",
            "Requirement already satisfied: numba>=0.51.0 in /usr/local/lib/python3.11/dist-packages (from librosa!=0.10.0,<0.11.0,>=0.8.0->audiomentations) (0.60.0)\n",
            "Requirement already satisfied: soundfile>=0.12.1 in /usr/local/lib/python3.11/dist-packages (from librosa!=0.10.0,<0.11.0,>=0.8.0->audiomentations) (0.13.1)\n",
            "Requirement already satisfied: pooch>=1.1 in /usr/local/lib/python3.11/dist-packages (from librosa!=0.10.0,<0.11.0,>=0.8.0->audiomentations) (1.8.2)\n",
            "Requirement already satisfied: typing-extensions>=4.1.1 in /usr/local/lib/python3.11/dist-packages (from librosa!=0.10.0,<0.11.0,>=0.8.0->audiomentations) (4.14.0)\n",
            "Requirement already satisfied: lazy-loader>=0.1 in /usr/local/lib/python3.11/dist-packages (from librosa!=0.10.0,<0.11.0,>=0.8.0->audiomentations) (0.4)\n",
            "Requirement already satisfied: msgpack>=1.0 in /usr/local/lib/python3.11/dist-packages (from librosa!=0.10.0,<0.11.0,>=0.8.0->audiomentations) (1.1.1)\n",
            "Requirement already satisfied: cffi>=1.0.0 in /usr/local/lib/python3.11/dist-packages (from numpy-minmax<1,>=0.3.0->audiomentations) (1.17.1)\n",
            "Requirement already satisfied: pycparser in /usr/local/lib/python3.11/dist-packages (from cffi>=1.0.0->numpy-minmax<1,>=0.3.0->audiomentations) (2.22)\n",
            "Requirement already satisfied: packaging in /usr/local/lib/python3.11/dist-packages (from lazy-loader>=0.1->librosa!=0.10.0,<0.11.0,>=0.8.0->audiomentations) (24.2)\n",
            "Requirement already satisfied: llvmlite<0.44,>=0.43.0dev0 in /usr/local/lib/python3.11/dist-packages (from numba>=0.51.0->librosa!=0.10.0,<0.11.0,>=0.8.0->audiomentations) (0.43.0)\n",
            "Requirement already satisfied: platformdirs>=2.5.0 in /usr/local/lib/python3.11/dist-packages (from pooch>=1.1->librosa!=0.10.0,<0.11.0,>=0.8.0->audiomentations) (4.3.8)\n",
            "Requirement already satisfied: requests>=2.19.0 in /usr/local/lib/python3.11/dist-packages (from pooch>=1.1->librosa!=0.10.0,<0.11.0,>=0.8.0->audiomentations) (2.32.3)\n",
            "Requirement already satisfied: threadpoolctl>=3.1.0 in /usr/local/lib/python3.11/dist-packages (from scikit-learn>=0.20.0->librosa!=0.10.0,<0.11.0,>=0.8.0->audiomentations) (3.6.0)\n",
            "Requirement already satisfied: charset-normalizer<4,>=2 in /usr/local/lib/python3.11/dist-packages (from requests>=2.19.0->pooch>=1.1->librosa!=0.10.0,<0.11.0,>=0.8.0->audiomentations) (3.4.2)\n",
            "Requirement already satisfied: idna<4,>=2.5 in /usr/local/lib/python3.11/dist-packages (from requests>=2.19.0->pooch>=1.1->librosa!=0.10.0,<0.11.0,>=0.8.0->audiomentations) (3.10)\n",
            "Requirement already satisfied: urllib3<3,>=1.21.1 in /usr/local/lib/python3.11/dist-packages (from requests>=2.19.0->pooch>=1.1->librosa!=0.10.0,<0.11.0,>=0.8.0->audiomentations) (2.4.0)\n",
            "Requirement already satisfied: certifi>=2017.4.17 in /usr/local/lib/python3.11/dist-packages (from requests>=2.19.0->pooch>=1.1->librosa!=0.10.0,<0.11.0,>=0.8.0->audiomentations) (2025.6.15)\n"
          ]
        }
      ]
    },
    {
      "cell_type": "code",
      "metadata": {
        "id": "dvGpG07E_3Uo"
      },
      "source": [
        "def extract_feature(file_name, mfcc, chroma, mel, augment_audio=False):\n",
        "    with soundfile.SoundFile(file_name) as sound_file:\n",
        "        X = sound_file.read(dtype=\"float32\")\n",
        "        sample_rate = sound_file.samplerate\n",
        "\n",
        "        if augment_audio:\n",
        "            X = augment(samples=X, sample_rate=sample_rate)\n",
        "\n",
        "        if chroma:\n",
        "            stft = np.abs(librosa.stft(X))\n",
        "\n",
        "        result = np.array([])\n",
        "        if mfcc:\n",
        "            mfccs = np.mean(librosa.feature.mfcc(y=X, sr=sample_rate, n_mfcc=40).T, axis=0)\n",
        "            result = np.hstack((result, mfccs))\n",
        "        if chroma:\n",
        "            chroma_feat = np.mean(librosa.feature.chroma_stft(S=stft, sr=sample_rate).T, axis=0)\n",
        "            result = np.hstack((result, chroma_feat))\n",
        "        if mel:\n",
        "            mel_feat = np.mean(librosa.feature.melspectrogram(y=X, sr=sample_rate).T, axis=0)\n",
        "            result = np.hstack((result, mel_feat))\n",
        "\n",
        "    return result\n"
      ],
      "execution_count": 50,
      "outputs": []
    },
    {
      "cell_type": "code",
      "metadata": {
        "id": "p-UIAg03Xis1"
      },
      "source": [
        "emotions = {\n",
        "    '01':'neutral',\n",
        "    '02':'calm',\n",
        "    '03':'happy',\n",
        "    '04':'sad',\n",
        "    '05':'angry',\n",
        "    '06':'fearful',\n",
        "    '07':'disgust',\n",
        "    '08':'surprised'\n",
        "}\n",
        "observed_emotions = ['neutral', 'calm', 'happy', 'sad', 'angry', 'fearful', 'disgust', 'surprised']\n"
      ],
      "execution_count": 51,
      "outputs": []
    },
    {
      "cell_type": "code",
      "source": [
        "def plot_emotion_spectrograms():\n",
        "    base_dir = \"/content/speech-emotion-recognition-ravdess-data\"\n",
        "    plotted = set()\n",
        "    plt.figure(figsize=(15, 10))\n",
        "    i = 1\n",
        "    for folder in glob.glob(os.path.join(base_dir, \"Actor_*\")):\n",
        "        for file_path in glob.glob(os.path.join(folder, \"*.wav\")):\n",
        "            file_name = os.path.basename(file_path)\n",
        "            emotion_code = file_name.split('-')[2]\n",
        "            emotion = emotions.get(emotion_code)\n",
        "            if emotion not in plotted and emotion in observed_emotions:\n",
        "                y, sr = librosa.load(file_path, sr=None)\n",
        "                S = librosa.feature.melspectrogram(y, sr=sr, n_mels=128)\n",
        "                S_dB = librosa.power_to_db(S, ref=np.max)\n",
        "\n",
        "                plt.subplot(3, 3, i)\n",
        "                librosa.display.specshow(S_dB, sr=sr, x_axis='time', y_axis='mel')\n",
        "                plt.colorbar(format='%+2.0f dB')\n",
        "                plt.title(f\"Emotion: {emotion}\")\n",
        "                plotted.add(emotion)\n",
        "                i += 1\n",
        "            if i > 8:\n",
        "                break\n",
        "        if i > 8:\n",
        "            break\n",
        "    plt.tight_layout()\n",
        "    plt.show()"
      ],
      "metadata": {
        "id": "SptOfrKpJLKT"
      },
      "execution_count": 52,
      "outputs": []
    },
    {
      "cell_type": "code",
      "metadata": {
        "id": "154OQUcVZ4tt"
      },
      "source": [
        "def load_data(test_size=0.2, augment_factor=1):\n",
        "    x, y = [], []\n",
        "    for folder in glob.glob('/content/Actor_*'):\n",
        "        for file in glob.glob(folder + '/*.wav'):\n",
        "            file_name = os.path.basename(file)\n",
        "            emotion = emotions[file_name.split('-')[2]]\n",
        "            if emotion not in observed_emotions:\n",
        "                continue\n",
        "\n",
        "\n",
        "            feature = extract_feature(file, mfcc=True, chroma=True, mel=True, augment_audio=False)\n",
        "            x.append(feature)\n",
        "            y.append(emotion)\n",
        "\n",
        "\n",
        "            for _ in range(augment_factor):\n",
        "                feature_aug = extract_feature(file, mfcc=True, chroma=True, mel=True, augment_audio=True)\n",
        "                x.append(feature_aug)\n",
        "                y.append(emotion)\n",
        "\n",
        "    return train_test_split(np.array(x), y, test_size=test_size, random_state=7)\n",
        "\n"
      ],
      "execution_count": 53,
      "outputs": []
    },
    {
      "cell_type": "code",
      "metadata": {
        "id": "J2f0qX1PjBU0",
        "collapsed": true
      },
      "source": [
        "x_train, x_test, y_train, y_test = load_data(test_size=0.2, augment_factor=4)\n",
        "\n",
        "\n",
        "from sklearn.preprocessing import LabelEncoder\n",
        "\n",
        "\n",
        "encoder = LabelEncoder()\n",
        "y_train_enc = encoder.fit_transform(y_train)\n",
        "y_test_enc = encoder.transform(y_test)"
      ],
      "execution_count": 54,
      "outputs": []
    },
    {
      "cell_type": "code",
      "source": [
        "from sklearn.pipeline import Pipeline\n",
        "from sklearn.preprocessing import StandardScaler\n",
        "\n",
        "pipeline = Pipeline([\n",
        "    ('scaler', StandardScaler()),\n",
        "    ('mlp', MLPClassifier(max_iter=1000, early_stopping=True))\n",
        "])"
      ],
      "metadata": {
        "id": "ji3cSbVz1sbU"
      },
      "execution_count": 55,
      "outputs": []
    },
    {
      "cell_type": "code",
      "source": [
        "param_dist = {\n",
        "    'mlp__hidden_layer_sizes': [(100,), (200,), (300,), (200,100), (100,100,50)],\n",
        "    'mlp__activation': ['relu', 'tanh'],\n",
        "    'mlp__solver': ['adam', 'sgd'],\n",
        "    'mlp__alpha': [0.0001, 0.001, 0.01, 0.1],\n",
        "    'mlp__learning_rate': ['constant', 'adaptive'],\n",
        "    'mlp__batch_size': [64, 128, 256]\n",
        "}\n"
      ],
      "metadata": {
        "id": "F5U4SM5n3Yre"
      },
      "execution_count": 56,
      "outputs": []
    },
    {
      "cell_type": "code",
      "source": [
        "from sklearn.model_selection import RandomizedSearchCV\n",
        "random_search = RandomizedSearchCV(\n",
        "    estimator=pipeline,\n",
        "    param_distributions=param_dist,\n",
        "    n_iter=10,\n",
        "    scoring='accuracy',\n",
        "    n_jobs=-1,\n",
        "    cv=5,\n",
        "    random_state=42,\n",
        "    verbose=2\n",
        ")\n"
      ],
      "metadata": {
        "id": "-Dxd15SgoZLX"
      },
      "execution_count": 57,
      "outputs": []
    },
    {
      "cell_type": "code",
      "metadata": {
        "id": "HpN02uwkpekV",
        "collapsed": true,
        "colab": {
          "base_uri": "https://localhost:8080/"
        },
        "outputId": "ae530e97-7915-43ad-bd7e-a4eba3097208"
      },
      "source": [
        "print((x_train.shape[0], x_test.shape[0]))\n",
        "print(f'Features extracted: {x_train.shape[1]}')"
      ],
      "execution_count": 58,
      "outputs": [
        {
          "output_type": "stream",
          "name": "stdout",
          "text": [
            "(5760, 1440)\n",
            "Features extracted: 180\n"
          ]
        }
      ]
    },
    {
      "cell_type": "code",
      "metadata": {
        "id": "ZXwY7HVDuuTv",
        "colab": {
          "base_uri": "https://localhost:8080/",
          "height": 206
        },
        "outputId": "a5e0ce31-72cf-49dc-be15-66f10dfd0701"
      },
      "source": [
        "random_search.fit(x_train, y_train_enc)\n",
        "\n"
      ],
      "execution_count": 59,
      "outputs": [
        {
          "output_type": "stream",
          "name": "stdout",
          "text": [
            "Fitting 5 folds for each of 10 candidates, totalling 50 fits\n"
          ]
        },
        {
          "output_type": "execute_result",
          "data": {
            "text/plain": [
              "RandomizedSearchCV(cv=5,\n",
              "                   estimator=Pipeline(steps=[('scaler', StandardScaler()),\n",
              "                                             ('mlp',\n",
              "                                              MLPClassifier(early_stopping=True,\n",
              "                                                            max_iter=1000))]),\n",
              "                   n_jobs=-1,\n",
              "                   param_distributions={'mlp__activation': ['relu', 'tanh'],\n",
              "                                        'mlp__alpha': [0.0001, 0.001, 0.01,\n",
              "                                                       0.1],\n",
              "                                        'mlp__batch_size': [64, 128, 256],\n",
              "                                        'mlp__hidden_layer_sizes': [(100,),\n",
              "                                                                    (200,),\n",
              "                                                                    (300,),\n",
              "                                                                    (200, 100),\n",
              "                                                                    (100, 100,\n",
              "                                                                     50)],\n",
              "                                        'mlp__learning_rate': ['constant',\n",
              "                                                               'adaptive'],\n",
              "                                        'mlp__solver': ['adam', 'sgd']},\n",
              "                   random_state=42, scoring='accuracy', verbose=2)"
            ],
            "text/html": [
              "<style>#sk-container-id-3 {\n",
              "  /* Definition of color scheme common for light and dark mode */\n",
              "  --sklearn-color-text: #000;\n",
              "  --sklearn-color-text-muted: #666;\n",
              "  --sklearn-color-line: gray;\n",
              "  /* Definition of color scheme for unfitted estimators */\n",
              "  --sklearn-color-unfitted-level-0: #fff5e6;\n",
              "  --sklearn-color-unfitted-level-1: #f6e4d2;\n",
              "  --sklearn-color-unfitted-level-2: #ffe0b3;\n",
              "  --sklearn-color-unfitted-level-3: chocolate;\n",
              "  /* Definition of color scheme for fitted estimators */\n",
              "  --sklearn-color-fitted-level-0: #f0f8ff;\n",
              "  --sklearn-color-fitted-level-1: #d4ebff;\n",
              "  --sklearn-color-fitted-level-2: #b3dbfd;\n",
              "  --sklearn-color-fitted-level-3: cornflowerblue;\n",
              "\n",
              "  /* Specific color for light theme */\n",
              "  --sklearn-color-text-on-default-background: var(--sg-text-color, var(--theme-code-foreground, var(--jp-content-font-color1, black)));\n",
              "  --sklearn-color-background: var(--sg-background-color, var(--theme-background, var(--jp-layout-color0, white)));\n",
              "  --sklearn-color-border-box: var(--sg-text-color, var(--theme-code-foreground, var(--jp-content-font-color1, black)));\n",
              "  --sklearn-color-icon: #696969;\n",
              "\n",
              "  @media (prefers-color-scheme: dark) {\n",
              "    /* Redefinition of color scheme for dark theme */\n",
              "    --sklearn-color-text-on-default-background: var(--sg-text-color, var(--theme-code-foreground, var(--jp-content-font-color1, white)));\n",
              "    --sklearn-color-background: var(--sg-background-color, var(--theme-background, var(--jp-layout-color0, #111)));\n",
              "    --sklearn-color-border-box: var(--sg-text-color, var(--theme-code-foreground, var(--jp-content-font-color1, white)));\n",
              "    --sklearn-color-icon: #878787;\n",
              "  }\n",
              "}\n",
              "\n",
              "#sk-container-id-3 {\n",
              "  color: var(--sklearn-color-text);\n",
              "}\n",
              "\n",
              "#sk-container-id-3 pre {\n",
              "  padding: 0;\n",
              "}\n",
              "\n",
              "#sk-container-id-3 input.sk-hidden--visually {\n",
              "  border: 0;\n",
              "  clip: rect(1px 1px 1px 1px);\n",
              "  clip: rect(1px, 1px, 1px, 1px);\n",
              "  height: 1px;\n",
              "  margin: -1px;\n",
              "  overflow: hidden;\n",
              "  padding: 0;\n",
              "  position: absolute;\n",
              "  width: 1px;\n",
              "}\n",
              "\n",
              "#sk-container-id-3 div.sk-dashed-wrapped {\n",
              "  border: 1px dashed var(--sklearn-color-line);\n",
              "  margin: 0 0.4em 0.5em 0.4em;\n",
              "  box-sizing: border-box;\n",
              "  padding-bottom: 0.4em;\n",
              "  background-color: var(--sklearn-color-background);\n",
              "}\n",
              "\n",
              "#sk-container-id-3 div.sk-container {\n",
              "  /* jupyter's `normalize.less` sets `[hidden] { display: none; }`\n",
              "     but bootstrap.min.css set `[hidden] { display: none !important; }`\n",
              "     so we also need the `!important` here to be able to override the\n",
              "     default hidden behavior on the sphinx rendered scikit-learn.org.\n",
              "     See: https://github.com/scikit-learn/scikit-learn/issues/21755 */\n",
              "  display: inline-block !important;\n",
              "  position: relative;\n",
              "}\n",
              "\n",
              "#sk-container-id-3 div.sk-text-repr-fallback {\n",
              "  display: none;\n",
              "}\n",
              "\n",
              "div.sk-parallel-item,\n",
              "div.sk-serial,\n",
              "div.sk-item {\n",
              "  /* draw centered vertical line to link estimators */\n",
              "  background-image: linear-gradient(var(--sklearn-color-text-on-default-background), var(--sklearn-color-text-on-default-background));\n",
              "  background-size: 2px 100%;\n",
              "  background-repeat: no-repeat;\n",
              "  background-position: center center;\n",
              "}\n",
              "\n",
              "/* Parallel-specific style estimator block */\n",
              "\n",
              "#sk-container-id-3 div.sk-parallel-item::after {\n",
              "  content: \"\";\n",
              "  width: 100%;\n",
              "  border-bottom: 2px solid var(--sklearn-color-text-on-default-background);\n",
              "  flex-grow: 1;\n",
              "}\n",
              "\n",
              "#sk-container-id-3 div.sk-parallel {\n",
              "  display: flex;\n",
              "  align-items: stretch;\n",
              "  justify-content: center;\n",
              "  background-color: var(--sklearn-color-background);\n",
              "  position: relative;\n",
              "}\n",
              "\n",
              "#sk-container-id-3 div.sk-parallel-item {\n",
              "  display: flex;\n",
              "  flex-direction: column;\n",
              "}\n",
              "\n",
              "#sk-container-id-3 div.sk-parallel-item:first-child::after {\n",
              "  align-self: flex-end;\n",
              "  width: 50%;\n",
              "}\n",
              "\n",
              "#sk-container-id-3 div.sk-parallel-item:last-child::after {\n",
              "  align-self: flex-start;\n",
              "  width: 50%;\n",
              "}\n",
              "\n",
              "#sk-container-id-3 div.sk-parallel-item:only-child::after {\n",
              "  width: 0;\n",
              "}\n",
              "\n",
              "/* Serial-specific style estimator block */\n",
              "\n",
              "#sk-container-id-3 div.sk-serial {\n",
              "  display: flex;\n",
              "  flex-direction: column;\n",
              "  align-items: center;\n",
              "  background-color: var(--sklearn-color-background);\n",
              "  padding-right: 1em;\n",
              "  padding-left: 1em;\n",
              "}\n",
              "\n",
              "\n",
              "/* Toggleable style: style used for estimator/Pipeline/ColumnTransformer box that is\n",
              "clickable and can be expanded/collapsed.\n",
              "- Pipeline and ColumnTransformer use this feature and define the default style\n",
              "- Estimators will overwrite some part of the style using the `sk-estimator` class\n",
              "*/\n",
              "\n",
              "/* Pipeline and ColumnTransformer style (default) */\n",
              "\n",
              "#sk-container-id-3 div.sk-toggleable {\n",
              "  /* Default theme specific background. It is overwritten whether we have a\n",
              "  specific estimator or a Pipeline/ColumnTransformer */\n",
              "  background-color: var(--sklearn-color-background);\n",
              "}\n",
              "\n",
              "/* Toggleable label */\n",
              "#sk-container-id-3 label.sk-toggleable__label {\n",
              "  cursor: pointer;\n",
              "  display: flex;\n",
              "  width: 100%;\n",
              "  margin-bottom: 0;\n",
              "  padding: 0.5em;\n",
              "  box-sizing: border-box;\n",
              "  text-align: center;\n",
              "  align-items: start;\n",
              "  justify-content: space-between;\n",
              "  gap: 0.5em;\n",
              "}\n",
              "\n",
              "#sk-container-id-3 label.sk-toggleable__label .caption {\n",
              "  font-size: 0.6rem;\n",
              "  font-weight: lighter;\n",
              "  color: var(--sklearn-color-text-muted);\n",
              "}\n",
              "\n",
              "#sk-container-id-3 label.sk-toggleable__label-arrow:before {\n",
              "  /* Arrow on the left of the label */\n",
              "  content: \"▸\";\n",
              "  float: left;\n",
              "  margin-right: 0.25em;\n",
              "  color: var(--sklearn-color-icon);\n",
              "}\n",
              "\n",
              "#sk-container-id-3 label.sk-toggleable__label-arrow:hover:before {\n",
              "  color: var(--sklearn-color-text);\n",
              "}\n",
              "\n",
              "/* Toggleable content - dropdown */\n",
              "\n",
              "#sk-container-id-3 div.sk-toggleable__content {\n",
              "  max-height: 0;\n",
              "  max-width: 0;\n",
              "  overflow: hidden;\n",
              "  text-align: left;\n",
              "  /* unfitted */\n",
              "  background-color: var(--sklearn-color-unfitted-level-0);\n",
              "}\n",
              "\n",
              "#sk-container-id-3 div.sk-toggleable__content.fitted {\n",
              "  /* fitted */\n",
              "  background-color: var(--sklearn-color-fitted-level-0);\n",
              "}\n",
              "\n",
              "#sk-container-id-3 div.sk-toggleable__content pre {\n",
              "  margin: 0.2em;\n",
              "  border-radius: 0.25em;\n",
              "  color: var(--sklearn-color-text);\n",
              "  /* unfitted */\n",
              "  background-color: var(--sklearn-color-unfitted-level-0);\n",
              "}\n",
              "\n",
              "#sk-container-id-3 div.sk-toggleable__content.fitted pre {\n",
              "  /* unfitted */\n",
              "  background-color: var(--sklearn-color-fitted-level-0);\n",
              "}\n",
              "\n",
              "#sk-container-id-3 input.sk-toggleable__control:checked~div.sk-toggleable__content {\n",
              "  /* Expand drop-down */\n",
              "  max-height: 200px;\n",
              "  max-width: 100%;\n",
              "  overflow: auto;\n",
              "}\n",
              "\n",
              "#sk-container-id-3 input.sk-toggleable__control:checked~label.sk-toggleable__label-arrow:before {\n",
              "  content: \"▾\";\n",
              "}\n",
              "\n",
              "/* Pipeline/ColumnTransformer-specific style */\n",
              "\n",
              "#sk-container-id-3 div.sk-label input.sk-toggleable__control:checked~label.sk-toggleable__label {\n",
              "  color: var(--sklearn-color-text);\n",
              "  background-color: var(--sklearn-color-unfitted-level-2);\n",
              "}\n",
              "\n",
              "#sk-container-id-3 div.sk-label.fitted input.sk-toggleable__control:checked~label.sk-toggleable__label {\n",
              "  background-color: var(--sklearn-color-fitted-level-2);\n",
              "}\n",
              "\n",
              "/* Estimator-specific style */\n",
              "\n",
              "/* Colorize estimator box */\n",
              "#sk-container-id-3 div.sk-estimator input.sk-toggleable__control:checked~label.sk-toggleable__label {\n",
              "  /* unfitted */\n",
              "  background-color: var(--sklearn-color-unfitted-level-2);\n",
              "}\n",
              "\n",
              "#sk-container-id-3 div.sk-estimator.fitted input.sk-toggleable__control:checked~label.sk-toggleable__label {\n",
              "  /* fitted */\n",
              "  background-color: var(--sklearn-color-fitted-level-2);\n",
              "}\n",
              "\n",
              "#sk-container-id-3 div.sk-label label.sk-toggleable__label,\n",
              "#sk-container-id-3 div.sk-label label {\n",
              "  /* The background is the default theme color */\n",
              "  color: var(--sklearn-color-text-on-default-background);\n",
              "}\n",
              "\n",
              "/* On hover, darken the color of the background */\n",
              "#sk-container-id-3 div.sk-label:hover label.sk-toggleable__label {\n",
              "  color: var(--sklearn-color-text);\n",
              "  background-color: var(--sklearn-color-unfitted-level-2);\n",
              "}\n",
              "\n",
              "/* Label box, darken color on hover, fitted */\n",
              "#sk-container-id-3 div.sk-label.fitted:hover label.sk-toggleable__label.fitted {\n",
              "  color: var(--sklearn-color-text);\n",
              "  background-color: var(--sklearn-color-fitted-level-2);\n",
              "}\n",
              "\n",
              "/* Estimator label */\n",
              "\n",
              "#sk-container-id-3 div.sk-label label {\n",
              "  font-family: monospace;\n",
              "  font-weight: bold;\n",
              "  display: inline-block;\n",
              "  line-height: 1.2em;\n",
              "}\n",
              "\n",
              "#sk-container-id-3 div.sk-label-container {\n",
              "  text-align: center;\n",
              "}\n",
              "\n",
              "/* Estimator-specific */\n",
              "#sk-container-id-3 div.sk-estimator {\n",
              "  font-family: monospace;\n",
              "  border: 1px dotted var(--sklearn-color-border-box);\n",
              "  border-radius: 0.25em;\n",
              "  box-sizing: border-box;\n",
              "  margin-bottom: 0.5em;\n",
              "  /* unfitted */\n",
              "  background-color: var(--sklearn-color-unfitted-level-0);\n",
              "}\n",
              "\n",
              "#sk-container-id-3 div.sk-estimator.fitted {\n",
              "  /* fitted */\n",
              "  background-color: var(--sklearn-color-fitted-level-0);\n",
              "}\n",
              "\n",
              "/* on hover */\n",
              "#sk-container-id-3 div.sk-estimator:hover {\n",
              "  /* unfitted */\n",
              "  background-color: var(--sklearn-color-unfitted-level-2);\n",
              "}\n",
              "\n",
              "#sk-container-id-3 div.sk-estimator.fitted:hover {\n",
              "  /* fitted */\n",
              "  background-color: var(--sklearn-color-fitted-level-2);\n",
              "}\n",
              "\n",
              "/* Specification for estimator info (e.g. \"i\" and \"?\") */\n",
              "\n",
              "/* Common style for \"i\" and \"?\" */\n",
              "\n",
              ".sk-estimator-doc-link,\n",
              "a:link.sk-estimator-doc-link,\n",
              "a:visited.sk-estimator-doc-link {\n",
              "  float: right;\n",
              "  font-size: smaller;\n",
              "  line-height: 1em;\n",
              "  font-family: monospace;\n",
              "  background-color: var(--sklearn-color-background);\n",
              "  border-radius: 1em;\n",
              "  height: 1em;\n",
              "  width: 1em;\n",
              "  text-decoration: none !important;\n",
              "  margin-left: 0.5em;\n",
              "  text-align: center;\n",
              "  /* unfitted */\n",
              "  border: var(--sklearn-color-unfitted-level-1) 1pt solid;\n",
              "  color: var(--sklearn-color-unfitted-level-1);\n",
              "}\n",
              "\n",
              ".sk-estimator-doc-link.fitted,\n",
              "a:link.sk-estimator-doc-link.fitted,\n",
              "a:visited.sk-estimator-doc-link.fitted {\n",
              "  /* fitted */\n",
              "  border: var(--sklearn-color-fitted-level-1) 1pt solid;\n",
              "  color: var(--sklearn-color-fitted-level-1);\n",
              "}\n",
              "\n",
              "/* On hover */\n",
              "div.sk-estimator:hover .sk-estimator-doc-link:hover,\n",
              ".sk-estimator-doc-link:hover,\n",
              "div.sk-label-container:hover .sk-estimator-doc-link:hover,\n",
              ".sk-estimator-doc-link:hover {\n",
              "  /* unfitted */\n",
              "  background-color: var(--sklearn-color-unfitted-level-3);\n",
              "  color: var(--sklearn-color-background);\n",
              "  text-decoration: none;\n",
              "}\n",
              "\n",
              "div.sk-estimator.fitted:hover .sk-estimator-doc-link.fitted:hover,\n",
              ".sk-estimator-doc-link.fitted:hover,\n",
              "div.sk-label-container:hover .sk-estimator-doc-link.fitted:hover,\n",
              ".sk-estimator-doc-link.fitted:hover {\n",
              "  /* fitted */\n",
              "  background-color: var(--sklearn-color-fitted-level-3);\n",
              "  color: var(--sklearn-color-background);\n",
              "  text-decoration: none;\n",
              "}\n",
              "\n",
              "/* Span, style for the box shown on hovering the info icon */\n",
              ".sk-estimator-doc-link span {\n",
              "  display: none;\n",
              "  z-index: 9999;\n",
              "  position: relative;\n",
              "  font-weight: normal;\n",
              "  right: .2ex;\n",
              "  padding: .5ex;\n",
              "  margin: .5ex;\n",
              "  width: min-content;\n",
              "  min-width: 20ex;\n",
              "  max-width: 50ex;\n",
              "  color: var(--sklearn-color-text);\n",
              "  box-shadow: 2pt 2pt 4pt #999;\n",
              "  /* unfitted */\n",
              "  background: var(--sklearn-color-unfitted-level-0);\n",
              "  border: .5pt solid var(--sklearn-color-unfitted-level-3);\n",
              "}\n",
              "\n",
              ".sk-estimator-doc-link.fitted span {\n",
              "  /* fitted */\n",
              "  background: var(--sklearn-color-fitted-level-0);\n",
              "  border: var(--sklearn-color-fitted-level-3);\n",
              "}\n",
              "\n",
              ".sk-estimator-doc-link:hover span {\n",
              "  display: block;\n",
              "}\n",
              "\n",
              "/* \"?\"-specific style due to the `<a>` HTML tag */\n",
              "\n",
              "#sk-container-id-3 a.estimator_doc_link {\n",
              "  float: right;\n",
              "  font-size: 1rem;\n",
              "  line-height: 1em;\n",
              "  font-family: monospace;\n",
              "  background-color: var(--sklearn-color-background);\n",
              "  border-radius: 1rem;\n",
              "  height: 1rem;\n",
              "  width: 1rem;\n",
              "  text-decoration: none;\n",
              "  /* unfitted */\n",
              "  color: var(--sklearn-color-unfitted-level-1);\n",
              "  border: var(--sklearn-color-unfitted-level-1) 1pt solid;\n",
              "}\n",
              "\n",
              "#sk-container-id-3 a.estimator_doc_link.fitted {\n",
              "  /* fitted */\n",
              "  border: var(--sklearn-color-fitted-level-1) 1pt solid;\n",
              "  color: var(--sklearn-color-fitted-level-1);\n",
              "}\n",
              "\n",
              "/* On hover */\n",
              "#sk-container-id-3 a.estimator_doc_link:hover {\n",
              "  /* unfitted */\n",
              "  background-color: var(--sklearn-color-unfitted-level-3);\n",
              "  color: var(--sklearn-color-background);\n",
              "  text-decoration: none;\n",
              "}\n",
              "\n",
              "#sk-container-id-3 a.estimator_doc_link.fitted:hover {\n",
              "  /* fitted */\n",
              "  background-color: var(--sklearn-color-fitted-level-3);\n",
              "}\n",
              "</style><div id=\"sk-container-id-3\" class=\"sk-top-container\"><div class=\"sk-text-repr-fallback\"><pre>RandomizedSearchCV(cv=5,\n",
              "                   estimator=Pipeline(steps=[(&#x27;scaler&#x27;, StandardScaler()),\n",
              "                                             (&#x27;mlp&#x27;,\n",
              "                                              MLPClassifier(early_stopping=True,\n",
              "                                                            max_iter=1000))]),\n",
              "                   n_jobs=-1,\n",
              "                   param_distributions={&#x27;mlp__activation&#x27;: [&#x27;relu&#x27;, &#x27;tanh&#x27;],\n",
              "                                        &#x27;mlp__alpha&#x27;: [0.0001, 0.001, 0.01,\n",
              "                                                       0.1],\n",
              "                                        &#x27;mlp__batch_size&#x27;: [64, 128, 256],\n",
              "                                        &#x27;mlp__hidden_layer_sizes&#x27;: [(100,),\n",
              "                                                                    (200,),\n",
              "                                                                    (300,),\n",
              "                                                                    (200, 100),\n",
              "                                                                    (100, 100,\n",
              "                                                                     50)],\n",
              "                                        &#x27;mlp__learning_rate&#x27;: [&#x27;constant&#x27;,\n",
              "                                                               &#x27;adaptive&#x27;],\n",
              "                                        &#x27;mlp__solver&#x27;: [&#x27;adam&#x27;, &#x27;sgd&#x27;]},\n",
              "                   random_state=42, scoring=&#x27;accuracy&#x27;, verbose=2)</pre><b>In a Jupyter environment, please rerun this cell to show the HTML representation or trust the notebook. <br />On GitHub, the HTML representation is unable to render, please try loading this page with nbviewer.org.</b></div><div class=\"sk-container\" hidden><div class=\"sk-item sk-dashed-wrapped\"><div class=\"sk-label-container\"><div class=\"sk-label fitted sk-toggleable\"><input class=\"sk-toggleable__control sk-hidden--visually\" id=\"sk-estimator-id-9\" type=\"checkbox\" ><label for=\"sk-estimator-id-9\" class=\"sk-toggleable__label fitted sk-toggleable__label-arrow\"><div><div>RandomizedSearchCV</div></div><div><a class=\"sk-estimator-doc-link fitted\" rel=\"noreferrer\" target=\"_blank\" href=\"https://scikit-learn.org/1.6/modules/generated/sklearn.model_selection.RandomizedSearchCV.html\">?<span>Documentation for RandomizedSearchCV</span></a><span class=\"sk-estimator-doc-link fitted\">i<span>Fitted</span></span></div></label><div class=\"sk-toggleable__content fitted\"><pre>RandomizedSearchCV(cv=5,\n",
              "                   estimator=Pipeline(steps=[(&#x27;scaler&#x27;, StandardScaler()),\n",
              "                                             (&#x27;mlp&#x27;,\n",
              "                                              MLPClassifier(early_stopping=True,\n",
              "                                                            max_iter=1000))]),\n",
              "                   n_jobs=-1,\n",
              "                   param_distributions={&#x27;mlp__activation&#x27;: [&#x27;relu&#x27;, &#x27;tanh&#x27;],\n",
              "                                        &#x27;mlp__alpha&#x27;: [0.0001, 0.001, 0.01,\n",
              "                                                       0.1],\n",
              "                                        &#x27;mlp__batch_size&#x27;: [64, 128, 256],\n",
              "                                        &#x27;mlp__hidden_layer_sizes&#x27;: [(100,),\n",
              "                                                                    (200,),\n",
              "                                                                    (300,),\n",
              "                                                                    (200, 100),\n",
              "                                                                    (100, 100,\n",
              "                                                                     50)],\n",
              "                                        &#x27;mlp__learning_rate&#x27;: [&#x27;constant&#x27;,\n",
              "                                                               &#x27;adaptive&#x27;],\n",
              "                                        &#x27;mlp__solver&#x27;: [&#x27;adam&#x27;, &#x27;sgd&#x27;]},\n",
              "                   random_state=42, scoring=&#x27;accuracy&#x27;, verbose=2)</pre></div> </div></div><div class=\"sk-parallel\"><div class=\"sk-parallel-item\"><div class=\"sk-item\"><div class=\"sk-label-container\"><div class=\"sk-label fitted sk-toggleable\"><input class=\"sk-toggleable__control sk-hidden--visually\" id=\"sk-estimator-id-10\" type=\"checkbox\" ><label for=\"sk-estimator-id-10\" class=\"sk-toggleable__label fitted sk-toggleable__label-arrow\"><div><div>best_estimator_: Pipeline</div></div></label><div class=\"sk-toggleable__content fitted\"><pre>Pipeline(steps=[(&#x27;scaler&#x27;, StandardScaler()),\n",
              "                (&#x27;mlp&#x27;,\n",
              "                 MLPClassifier(alpha=0.01, batch_size=256, early_stopping=True,\n",
              "                               hidden_layer_sizes=(200, 100), max_iter=1000))])</pre></div> </div></div><div class=\"sk-serial\"><div class=\"sk-item\"><div class=\"sk-serial\"><div class=\"sk-item\"><div class=\"sk-estimator fitted sk-toggleable\"><input class=\"sk-toggleable__control sk-hidden--visually\" id=\"sk-estimator-id-11\" type=\"checkbox\" ><label for=\"sk-estimator-id-11\" class=\"sk-toggleable__label fitted sk-toggleable__label-arrow\"><div><div>StandardScaler</div></div><div><a class=\"sk-estimator-doc-link fitted\" rel=\"noreferrer\" target=\"_blank\" href=\"https://scikit-learn.org/1.6/modules/generated/sklearn.preprocessing.StandardScaler.html\">?<span>Documentation for StandardScaler</span></a></div></label><div class=\"sk-toggleable__content fitted\"><pre>StandardScaler()</pre></div> </div></div><div class=\"sk-item\"><div class=\"sk-estimator fitted sk-toggleable\"><input class=\"sk-toggleable__control sk-hidden--visually\" id=\"sk-estimator-id-12\" type=\"checkbox\" ><label for=\"sk-estimator-id-12\" class=\"sk-toggleable__label fitted sk-toggleable__label-arrow\"><div><div>MLPClassifier</div></div><div><a class=\"sk-estimator-doc-link fitted\" rel=\"noreferrer\" target=\"_blank\" href=\"https://scikit-learn.org/1.6/modules/generated/sklearn.neural_network.MLPClassifier.html\">?<span>Documentation for MLPClassifier</span></a></div></label><div class=\"sk-toggleable__content fitted\"><pre>MLPClassifier(alpha=0.01, batch_size=256, early_stopping=True,\n",
              "              hidden_layer_sizes=(200, 100), max_iter=1000)</pre></div> </div></div></div></div></div></div></div></div></div></div></div>"
            ]
          },
          "metadata": {},
          "execution_count": 59
        }
      ]
    },
    {
      "cell_type": "code",
      "metadata": {
        "id": "0_LKbQ3KvJy-",
        "collapsed": true
      },
      "source": [
        "best_model = random_search.best_estimator_\n",
        "\n",
        "y_pred_enc = best_model.predict(x_test)\n",
        "y_pred = encoder.inverse_transform(y_pred_enc)\n",
        "y_true = encoder.inverse_transform(y_test_enc)\n"
      ],
      "execution_count": 60,
      "outputs": []
    },
    {
      "cell_type": "code",
      "source": [
        "print(\"Best Parameters:\", random_search.best_params_)\n",
        "print(\"Accuracy:\", accuracy_score(y_true, y_pred))\n",
        "print(classification_report(y_true, y_pred))\n",
        "\n",
        "matrix = confusion_matrix(y_true, y_pred)\n",
        "sns.heatmap(matrix, annot=True, cmap='Blues', fmt='g')\n",
        "plt.title('Confusion Matrix')\n",
        "plt.xlabel('Predicted Label')\n",
        "plt.ylabel('True Label')\n",
        "plt.show()\n"
      ],
      "metadata": {
        "colab": {
          "base_uri": "https://localhost:8080/",
          "height": 801
        },
        "id": "rCMEFUZIrcmn",
        "outputId": "da9467ce-e5c3-4267-887d-35938f53388d",
        "collapsed": true
      },
      "execution_count": 61,
      "outputs": [
        {
          "output_type": "stream",
          "name": "stdout",
          "text": [
            "Best Parameters: {'mlp__solver': 'adam', 'mlp__learning_rate': 'constant', 'mlp__hidden_layer_sizes': (200, 100), 'mlp__batch_size': 256, 'mlp__alpha': 0.01, 'mlp__activation': 'relu'}\n",
            "Accuracy: 0.7694444444444445\n",
            "              precision    recall  f1-score   support\n",
            "\n",
            "       angry       0.91      0.82      0.86       221\n",
            "        calm       0.71      0.83      0.76       183\n",
            "     disgust       0.73      0.81      0.77       185\n",
            "     fearful       0.80      0.81      0.81       191\n",
            "       happy       0.81      0.75      0.78       187\n",
            "     neutral       0.74      0.52      0.61        88\n",
            "         sad       0.68      0.69      0.69       211\n",
            "   surprised       0.78      0.79      0.78       174\n",
            "\n",
            "    accuracy                           0.77      1440\n",
            "   macro avg       0.77      0.75      0.76      1440\n",
            "weighted avg       0.77      0.77      0.77      1440\n",
            "\n"
          ]
        },
        {
          "output_type": "display_data",
          "data": {
            "text/plain": [
              "<Figure size 640x480 with 2 Axes>"
            ],
            "image/png": "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\n"
          },
          "metadata": {}
        }
      ]
    },
    {
      "cell_type": "code",
      "source": [
        "import joblib\n",
        "\n",
        "# Save the pipeline (scaler + MLPClassifier)\n",
        "joblib.dump(best_model, 'ser_mlp_model.pkl')\n",
        "joblib.dump(encoder, 'label_encoder.pkl')\n"
      ],
      "metadata": {
        "colab": {
          "base_uri": "https://localhost:8080/"
        },
        "id": "a_9JKK1frz8H",
        "outputId": "eecd8a61-9511-48f0-df07-e3dac8cb0ffc"
      },
      "execution_count": 62,
      "outputs": [
        {
          "output_type": "execute_result",
          "data": {
            "text/plain": [
              "['label_encoder.pkl']"
            ]
          },
          "metadata": {},
          "execution_count": 62
        }
      ]
    },
    {
      "cell_type": "code",
      "source": [
        "from google.colab import files\n",
        "files.download('ser_mlp_model.pkl')\n",
        "files.download('label_encoder.pkl')\n"
      ],
      "metadata": {
        "id": "0n9DjF8fAKn-",
        "colab": {
          "base_uri": "https://localhost:8080/",
          "height": 17
        },
        "outputId": "854f1f5b-537f-4ef4-9230-c68f4742ca11"
      },
      "execution_count": 63,
      "outputs": [
        {
          "output_type": "display_data",
          "data": {
            "text/plain": [
              "<IPython.core.display.Javascript object>"
            ],
            "application/javascript": [
              "\n",
              "    async function download(id, filename, size) {\n",
              "      if (!google.colab.kernel.accessAllowed) {\n",
              "        return;\n",
              "      }\n",
              "      const div = document.createElement('div');\n",
              "      const label = document.createElement('label');\n",
              "      label.textContent = `Downloading \"${filename}\": `;\n",
              "      div.appendChild(label);\n",
              "      const progress = document.createElement('progress');\n",
              "      progress.max = size;\n",
              "      div.appendChild(progress);\n",
              "      document.body.appendChild(div);\n",
              "\n",
              "      const buffers = [];\n",
              "      let downloaded = 0;\n",
              "\n",
              "      const channel = await google.colab.kernel.comms.open(id);\n",
              "      // Send a message to notify the kernel that we're ready.\n",
              "      channel.send({})\n",
              "\n",
              "      for await (const message of channel.messages) {\n",
              "        // Send a message to notify the kernel that we're ready.\n",
              "        channel.send({})\n",
              "        if (message.buffers) {\n",
              "          for (const buffer of message.buffers) {\n",
              "            buffers.push(buffer);\n",
              "            downloaded += buffer.byteLength;\n",
              "            progress.value = downloaded;\n",
              "          }\n",
              "        }\n",
              "      }\n",
              "      const blob = new Blob(buffers, {type: 'application/binary'});\n",
              "      const a = document.createElement('a');\n",
              "      a.href = window.URL.createObjectURL(blob);\n",
              "      a.download = filename;\n",
              "      div.appendChild(a);\n",
              "      a.click();\n",
              "      div.remove();\n",
              "    }\n",
              "  "
            ]
          },
          "metadata": {}
        },
        {
          "output_type": "display_data",
          "data": {
            "text/plain": [
              "<IPython.core.display.Javascript object>"
            ],
            "application/javascript": [
              "download(\"download_a6dc0c6b-036d-4fba-82bc-497b16206036\", \"ser_mlp_model.pkl\", 1385609)"
            ]
          },
          "metadata": {}
        },
        {
          "output_type": "display_data",
          "data": {
            "text/plain": [
              "<IPython.core.display.Javascript object>"
            ],
            "application/javascript": [
              "\n",
              "    async function download(id, filename, size) {\n",
              "      if (!google.colab.kernel.accessAllowed) {\n",
              "        return;\n",
              "      }\n",
              "      const div = document.createElement('div');\n",
              "      const label = document.createElement('label');\n",
              "      label.textContent = `Downloading \"${filename}\": `;\n",
              "      div.appendChild(label);\n",
              "      const progress = document.createElement('progress');\n",
              "      progress.max = size;\n",
              "      div.appendChild(progress);\n",
              "      document.body.appendChild(div);\n",
              "\n",
              "      const buffers = [];\n",
              "      let downloaded = 0;\n",
              "\n",
              "      const channel = await google.colab.kernel.comms.open(id);\n",
              "      // Send a message to notify the kernel that we're ready.\n",
              "      channel.send({})\n",
              "\n",
              "      for await (const message of channel.messages) {\n",
              "        // Send a message to notify the kernel that we're ready.\n",
              "        channel.send({})\n",
              "        if (message.buffers) {\n",
              "          for (const buffer of message.buffers) {\n",
              "            buffers.push(buffer);\n",
              "            downloaded += buffer.byteLength;\n",
              "            progress.value = downloaded;\n",
              "          }\n",
              "        }\n",
              "      }\n",
              "      const blob = new Blob(buffers, {type: 'application/binary'});\n",
              "      const a = document.createElement('a');\n",
              "      a.href = window.URL.createObjectURL(blob);\n",
              "      a.download = filename;\n",
              "      div.appendChild(a);\n",
              "      a.click();\n",
              "      div.remove();\n",
              "    }\n",
              "  "
            ]
          },
          "metadata": {}
        },
        {
          "output_type": "display_data",
          "data": {
            "text/plain": [
              "<IPython.core.display.Javascript object>"
            ],
            "application/javascript": [
              "download(\"download_d52afed3-78a0-4c7b-98fa-3c4115cb6dd6\", \"label_encoder.pkl\", 615)"
            ]
          },
          "metadata": {}
        }
      ]
    },
    {
      "cell_type": "code",
      "source": [],
      "metadata": {
        "id": "s7vbVRqF0f29"
      },
      "execution_count": null,
      "outputs": []
    }
  ]
}
